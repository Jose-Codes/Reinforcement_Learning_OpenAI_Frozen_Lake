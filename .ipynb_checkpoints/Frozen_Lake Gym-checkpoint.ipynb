{
 "cells": [
  {
   "cell_type": "code",
   "execution_count": 4,
   "id": "5965df4a",
   "metadata": {},
   "outputs": [],
   "source": [
    "import numpy as np\n",
    "import gym\n",
    "import random\n",
    "import time\n",
    "from IPython.display import clear_output"
   ]
  },
  {
   "cell_type": "code",
   "execution_count": 5,
   "id": "9115661e",
   "metadata": {},
   "outputs": [],
   "source": [
    "env = gym.make(\"FrozenLake-v1\")"
   ]
  },
  {
   "cell_type": "code",
   "execution_count": 6,
   "id": "bd9c7cdb",
   "metadata": {},
   "outputs": [
    {
     "name": "stdout",
     "output_type": "stream",
     "text": [
      "[[0. 0. 0. 0.]\n",
      " [0. 0. 0. 0.]\n",
      " [0. 0. 0. 0.]\n",
      " [0. 0. 0. 0.]\n",
      " [0. 0. 0. 0.]\n",
      " [0. 0. 0. 0.]\n",
      " [0. 0. 0. 0.]\n",
      " [0. 0. 0. 0.]\n",
      " [0. 0. 0. 0.]\n",
      " [0. 0. 0. 0.]\n",
      " [0. 0. 0. 0.]\n",
      " [0. 0. 0. 0.]\n",
      " [0. 0. 0. 0.]\n",
      " [0. 0. 0. 0.]\n",
      " [0. 0. 0. 0.]\n",
      " [0. 0. 0. 0.]]\n"
     ]
    }
   ],
   "source": [
    "action_space_size = env.action_space.n\n",
    "state_space_size = env.observation_space.n\n",
    "\n",
    "q_table = np.zeros((state_space_size, action_space_size))\n",
    "print(q_table)"
   ]
  },
  {
   "cell_type": "code",
   "execution_count": 7,
   "id": "946746ec",
   "metadata": {},
   "outputs": [],
   "source": [
    "num_episodes = 10000\n",
    "max_steps_per_episode = 100\n",
    "\n",
    "learning_rate = 0.1 # Alpha\n",
    "discount_rate = 0.99 # Gamma\n",
    "\n",
    "exploration_rate = 1 # epsilon\n",
    "max_exploration_rate = 1\n",
    "min_exploration_rate = 0.01\n",
    "exploration_decay_rate = 0.001 # epsilon decay"
   ]
  },
  {
   "cell_type": "code",
   "execution_count": 21,
   "id": "113c4bac",
   "metadata": {},
   "outputs": [
    {
     "name": "stdout",
     "output_type": "stream",
     "text": [
      "********Avearge reward per thousand episodes********\n",
      "\n",
      "1000 :  0.06600000000000004\n",
      "2000 :  0.20600000000000016\n",
      "3000 :  0.3980000000000003\n",
      "4000 :  0.5550000000000004\n",
      "5000 :  0.6080000000000004\n",
      "6000 :  0.6690000000000005\n",
      "7000 :  0.6600000000000005\n",
      "8000 :  0.6790000000000005\n",
      "9000 :  0.6680000000000005\n",
      "10000 :  0.7010000000000005\n",
      "[[0.62005229 0.51726586 0.51718832 0.48768384]\n",
      " [0.4106984  0.43239235 0.3476938  0.52290575]\n",
      " [0.3977684  0.43074601 0.42642132 0.45833961]\n",
      " [0.28854832 0.27926053 0.29925941 0.42722604]\n",
      " [0.6368487  0.39974994 0.36484352 0.42157463]\n",
      " [0.         0.         0.         0.        ]\n",
      " [0.43055859 0.15457976 0.24835295 0.11285131]\n",
      " [0.         0.         0.         0.        ]\n",
      " [0.42284373 0.41268187 0.40476137 0.6795543 ]\n",
      " [0.44999975 0.73166422 0.41004008 0.39828364]\n",
      " [0.69663803 0.41055599 0.44163533 0.23242721]\n",
      " [0.         0.         0.         0.        ]\n",
      " [0.         0.         0.         0.        ]\n",
      " [0.33432983 0.49186402 0.82351018 0.39747889]\n",
      " [0.75838573 0.90444939 0.81122148 0.70889258]\n",
      " [0.         0.         0.         0.        ]]\n"
     ]
    }
   ],
   "source": [
    "rewards_all_episodes = []\n",
    "\n",
    "# Q-learning algorithm\n",
    "for episode in range(num_episodes):\n",
    "    state = env.reset()[0]\n",
    "    \n",
    "    done = False\n",
    "    rewards_current_episode = 0\n",
    "    \n",
    "    for step in range(max_steps_per_episode):\n",
    "        \n",
    "        # Exploration-Exploitation trade-off\n",
    "        exploration_rate_threshold = random.uniform(0,1)\n",
    "        if exploration_rate_threshold > exploration_rate:\n",
    "            action = np.argmax(q_table[state,:]) # exploit\n",
    "        else:\n",
    "            action = env.action_space.sample() # explore\n",
    "            \n",
    "        \n",
    "        new_state, reward, done, info, e = env.step(action)\n",
    "        \n",
    "        # Update Q-table for Q(s,a)\n",
    "        q_table[state, action] = q_table[state, action] * (1 - learning_rate) + \\\n",
    "           learning_rate * (reward + discount_rate * np.max(q_table[new_state, :]))\n",
    "        \n",
    "        state = new_state\n",
    "        rewards_current_episode += reward\n",
    "        \n",
    "        if done == True:\n",
    "            break \n",
    "    \n",
    "    rewards_all_episodes.append(rewards_current_episode)\n",
    "    # Exploration rate decay\n",
    "    exploration_rate = min_exploration_rate + \\\n",
    "        (max_exploration_rate - min_exploration_rate) * np.exp(-exploration_decay_rate*episode)\n",
    "\n",
    "# calculate and print the avearge reward per thousand episodes\n",
    "rewards_per_thousand_episodes = np.split(np.array(rewards_all_episodes), num_episodes/1000)\n",
    "count = 1000\n",
    "print(\"********Avearge reward per thousand episodes********\\n\")\n",
    "for r in rewards_per_thousand_episodes:\n",
    "    print(count, \": \", str(sum(r/1000)))\n",
    "    count += 1000\n",
    "\n",
    "# print updated Q-table\n",
    "print(q_table)"
   ]
  },
  {
   "cell_type": "code",
   "execution_count": null,
   "id": "c756a792",
   "metadata": {},
   "outputs": [],
   "source": []
  }
 ],
 "metadata": {
  "kernelspec": {
   "display_name": "Python 3 (ipykernel)",
   "language": "python",
   "name": "python3"
  },
  "language_info": {
   "codemirror_mode": {
    "name": "ipython",
    "version": 3
   },
   "file_extension": ".py",
   "mimetype": "text/x-python",
   "name": "python",
   "nbconvert_exporter": "python",
   "pygments_lexer": "ipython3",
   "version": "3.9.7"
  }
 },
 "nbformat": 4,
 "nbformat_minor": 5
}
