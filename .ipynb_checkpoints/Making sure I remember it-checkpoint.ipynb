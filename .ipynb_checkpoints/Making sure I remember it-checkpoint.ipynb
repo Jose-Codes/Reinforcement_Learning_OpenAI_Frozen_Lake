{
 "cells": [
  {
   "cell_type": "code",
   "execution_count": 1,
   "id": "2001ce0f",
   "metadata": {},
   "outputs": [],
   "source": [
    "import numpy as np\n",
    "import gym\n",
    "import random\n",
    "import time\n",
    "from IPython.display import clear_output"
   ]
  },
  {
   "cell_type": "code",
   "execution_count": 2,
   "id": "0bb86b67",
   "metadata": {},
   "outputs": [],
   "source": [
    "env = gym.make(\"FrozenLake-v1\", map_name=\"4x4\") # create the environment"
   ]
  },
  {
   "cell_type": "code",
   "execution_count": 3,
   "id": "2f85ad65",
   "metadata": {},
   "outputs": [],
   "source": [
    "action_space_size = env.action_space.n\n",
    "state_space_size = env.observation_space.n\n",
    "\n",
    "q_table = np.zeros((state_space_size, action_space_size))"
   ]
  },
  {
   "cell_type": "code",
   "execution_count": 4,
   "id": "54907fbe",
   "metadata": {},
   "outputs": [
    {
     "name": "stdout",
     "output_type": "stream",
     "text": [
      "[[0. 0. 0. 0.]\n",
      " [0. 0. 0. 0.]\n",
      " [0. 0. 0. 0.]\n",
      " [0. 0. 0. 0.]\n",
      " [0. 0. 0. 0.]\n",
      " [0. 0. 0. 0.]\n",
      " [0. 0. 0. 0.]\n",
      " [0. 0. 0. 0.]\n",
      " [0. 0. 0. 0.]\n",
      " [0. 0. 0. 0.]\n",
      " [0. 0. 0. 0.]\n",
      " [0. 0. 0. 0.]\n",
      " [0. 0. 0. 0.]\n",
      " [0. 0. 0. 0.]\n",
      " [0. 0. 0. 0.]\n",
      " [0. 0. 0. 0.]]\n"
     ]
    }
   ],
   "source": [
    "print(q_table)"
   ]
  },
  {
   "cell_type": "code",
   "execution_count": 5,
   "id": "e9de833f",
   "metadata": {},
   "outputs": [],
   "source": [
    "# initialize all the Q-Learning Parameters\n",
    "num_episodes = 10000\n",
    "max_steps_per_episode = 100\n",
    "\n",
    "learning_rate = 0.1 # alpha --> a\n",
    "discount_rate = 0.99 # gamma --> y\n",
    "\n",
    "exploration_rate = 1 # epsilon --> e\n",
    "max_exploration_rate = 1\n",
    "min_exploration_rate = 0.01\n",
    "exploration_decay_rate = 0.001 # test this number"
   ]
  },
  {
   "cell_type": "code",
   "execution_count": null,
   "id": "0d960c0a",
   "metadata": {},
   "outputs": [],
   "source": []
  },
  {
   "cell_type": "code",
   "execution_count": 6,
   "id": "47272332",
   "metadata": {},
   "outputs": [
    {
     "name": "stdout",
     "output_type": "stream",
     "text": [
      "********Avearge reward per thousand episodes********\n",
      "\n",
      "1000 :  0.05400000000000004\n",
      "2000 :  0.21600000000000016\n",
      "3000 :  0.4220000000000003\n",
      "4000 :  0.5670000000000004\n",
      "5000 :  0.6660000000000005\n",
      "6000 :  0.6530000000000005\n",
      "7000 :  0.6730000000000005\n",
      "8000 :  0.6820000000000005\n",
      "9000 :  0.6820000000000005\n",
      "10000 :  0.6960000000000005\n",
      "[[0.56722904 0.52422398 0.52630578 0.52607259]\n",
      " [0.26082214 0.36312907 0.26919204 0.52625498]\n",
      " [0.406362   0.42692551 0.4273247  0.47840951]\n",
      " [0.36891717 0.29478798 0.19190438 0.45631183]\n",
      " [0.58524672 0.36656124 0.36038867 0.39859875]\n",
      " [0.         0.         0.         0.        ]\n",
      " [0.28447697 0.1074978  0.1837796  0.09443074]\n",
      " [0.         0.         0.         0.        ]\n",
      " [0.41202781 0.49024423 0.4794672  0.63565842]\n",
      " [0.3955215  0.69336872 0.38733294 0.5432245 ]\n",
      " [0.70918357 0.35908967 0.43165726 0.33698563]\n",
      " [0.         0.         0.         0.        ]\n",
      " [0.         0.         0.         0.        ]\n",
      " [0.31320927 0.36696332 0.74522623 0.53212305]\n",
      " [0.74158998 0.87725841 0.76468514 0.78182418]\n",
      " [0.         0.         0.         0.        ]]\n"
     ]
    }
   ],
   "source": [
    " rewards_all_epsisodes = []\n",
    "\n",
    "# Q-learning algorithm\n",
    "for episode in range(num_episodes):\n",
    "    state = env.reset()[0] # reset the environment\n",
    "    done = False\n",
    "    reward_current_episode = 0\n",
    "    \n",
    "    for step in range(max_steps_per_episode):\n",
    "        # exploration vs exploitation\n",
    "        exploration_rate_threshold = random.uniform(0,1)\n",
    "        if exploration_rate_threshold > exploration_rate:\n",
    "            action = np.argmax(q_table[state,:]) # exploit by picking the max q-value\n",
    "        else:\n",
    "            action = env.action_space.sample() # explore by taking a random action\n",
    "        \n",
    "        new_state, reward, done, info, prob = env.step(action) # take the action and retrieve the reward\n",
    "        \n",
    "        #Update the Q-table for Q(s,a)\n",
    "        q_table[state, action] = q_table[state, action] * (1-learning_rate) + \\\n",
    "            learning_rate*(reward + discount_rate*np.max(q_table[new_state, :]))\n",
    "        # q_new(s,a) = (1-a)(q_old) + a(r_t1 + y*max(new_state, all actions)\n",
    "        state = new_state\n",
    "        reward_current_episode += reward\n",
    "        \n",
    "        if done:\n",
    "            break\n",
    "        \n",
    "    rewards_all_epsisodes.append(reward_current_episode)\n",
    "    # exploration decay\n",
    "    exploration_rate = min_exploration_rate + \\\n",
    "        (max_exploration_rate - min_exploration_rate) * np.exp(-exploration_decay_rate*episode)\n",
    "    \n",
    "# calculate and print the average reward per thousand episodes\n",
    "rewards_per_thousand_episodes = np.split(np.array(rewards_all_epsisodes), num_episodes/1000)\n",
    "count = 1000\n",
    "print(\"********Avearge reward per thousand episodes********\\n\")\n",
    "for r in rewards_per_thousand_episodes:\n",
    "    print(count, \": \", str(sum(r/1000)))\n",
    "    count += 1000\n",
    "\n",
    "# print updated Q-table\n",
    "print(q_table)"
   ]
  },
  {
   "cell_type": "code",
   "execution_count": 9,
   "id": "5885cc36",
   "metadata": {},
   "outputs": [],
   "source": [
    "env = gym.make(\"FrozenLake-v1\", render_mode=\"human\") # create the environment"
   ]
  },
  {
   "cell_type": "code",
   "execution_count": null,
   "id": "2116c3f9",
   "metadata": {
    "scrolled": true
   },
   "outputs": [
    {
     "name": "stdout",
     "output_type": "stream",
     "text": [
      "*****You've fell in the hole, I'm dissapointed...******\n"
     ]
    }
   ],
   "source": [
    "for episode in range(3):\n",
    "    state = env.reset()[0]\n",
    "    done = False\n",
    "    print(\"*****EPISODE \", episode+1, \"******\\n\\n\\n\\n\")\n",
    "    time.sleep(5)\n",
    "    \n",
    "    for step in range(max_steps_per_episode):\n",
    "        clear_output(wait=True)\n",
    "        env.render()\n",
    "        time.sleep(0.3)\n",
    "        \n",
    "        action = np.argmax(q_table[state, :])\n",
    "        new_state, reward, done, info, prob = env.step(action)\n",
    "        \n",
    "        if done:\n",
    "            clear_output(wait=True)\n",
    "            env.render()\n",
    "            if reward == 1:\n",
    "                print(\"*****You've reached the goal my son!******\")\n",
    "                time.sleep(3)\n",
    "            else:\n",
    "                print(\"*****You've fell in the hole, I'm dissapointed...******\")\n",
    "                time.sleep(3)\n",
    "            clear_output(wait=True)\n",
    "            break\n",
    "        state = new_state\n",
    "\n",
    "env.close()"
   ]
  },
  {
   "cell_type": "code",
   "execution_count": 12,
   "id": "7dad6fa8",
   "metadata": {},
   "outputs": [],
   "source": []
  },
  {
   "cell_type": "code",
   "execution_count": null,
   "id": "3d74b4ca",
   "metadata": {},
   "outputs": [],
   "source": []
  }
 ],
 "metadata": {
  "kernelspec": {
   "display_name": "Python 3 (ipykernel)",
   "language": "python",
   "name": "python3"
  },
  "language_info": {
   "codemirror_mode": {
    "name": "ipython",
    "version": 3
   },
   "file_extension": ".py",
   "mimetype": "text/x-python",
   "name": "python",
   "nbconvert_exporter": "python",
   "pygments_lexer": "ipython3",
   "version": "3.9.7"
  }
 },
 "nbformat": 4,
 "nbformat_minor": 5
}
