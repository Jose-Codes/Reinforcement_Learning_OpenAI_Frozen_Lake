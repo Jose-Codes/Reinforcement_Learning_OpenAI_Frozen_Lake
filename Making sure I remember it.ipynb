{
 "cells": [
  {
   "cell_type": "code",
   "execution_count": 1,
   "id": "2001ce0f",
   "metadata": {},
   "outputs": [],
   "source": [
    "import numpy as np\n",
    "import gym\n",
    "import random\n",
    "import time\n",
    "from IPython.display import clear_output"
   ]
  },
  {
   "cell_type": "code",
   "execution_count": 2,
   "id": "0bb86b67",
   "metadata": {},
   "outputs": [],
   "source": [
    "env = gym.make(\"FrozenLake-v1\", map_name=\"4x4\") # create the environment"
   ]
  },
  {
   "cell_type": "code",
   "execution_count": 3,
   "id": "2f85ad65",
   "metadata": {},
   "outputs": [],
   "source": [
    "action_space_size = env.action_space.n\n",
    "state_space_size = env.observation_space.n\n",
    "\n",
    "q_table = np.zeros((state_space_size, action_space_size))"
   ]
  },
  {
   "cell_type": "code",
   "execution_count": 4,
   "id": "54907fbe",
   "metadata": {},
   "outputs": [
    {
     "name": "stdout",
     "output_type": "stream",
     "text": [
      "[[0. 0. 0. 0.]\n",
      " [0. 0. 0. 0.]\n",
      " [0. 0. 0. 0.]\n",
      " [0. 0. 0. 0.]\n",
      " [0. 0. 0. 0.]\n",
      " [0. 0. 0. 0.]\n",
      " [0. 0. 0. 0.]\n",
      " [0. 0. 0. 0.]\n",
      " [0. 0. 0. 0.]\n",
      " [0. 0. 0. 0.]\n",
      " [0. 0. 0. 0.]\n",
      " [0. 0. 0. 0.]\n",
      " [0. 0. 0. 0.]\n",
      " [0. 0. 0. 0.]\n",
      " [0. 0. 0. 0.]\n",
      " [0. 0. 0. 0.]]\n"
     ]
    }
   ],
   "source": [
    "print(q_table)"
   ]
  },
  {
   "cell_type": "code",
   "execution_count": 5,
   "id": "e9de833f",
   "metadata": {},
   "outputs": [],
   "source": [
    "# initialize all the Q-Learning Parameters\n",
    "num_episodes = 10000\n",
    "max_steps_per_episode = 100\n",
    "\n",
    "learning_rate = 0.1 # alpha --> a\n",
    "discount_rate = 0.99 # gamma --> y\n",
    "\n",
    "exploration_rate = 1 # epsilon --> e\n",
    "max_exploration_rate = 1\n",
    "min_exploration_rate = 0.01\n",
    "exploration_decay_rate = 0.001 # test this number"
   ]
  },
  {
   "cell_type": "code",
   "execution_count": 6,
   "id": "47272332",
   "metadata": {},
   "outputs": [
    {
     "name": "stdout",
     "output_type": "stream",
     "text": [
      "********Avearge reward per thousand episodes********\n",
      "\n",
      "1000 :  0.04400000000000003\n",
      "2000 :  0.20500000000000015\n",
      "3000 :  0.4250000000000003\n",
      "4000 :  0.5520000000000004\n",
      "5000 :  0.6330000000000005\n",
      "6000 :  0.6590000000000005\n",
      "7000 :  0.6720000000000005\n",
      "8000 :  0.6720000000000005\n",
      "9000 :  0.7040000000000005\n",
      "10000 :  0.6740000000000005\n",
      "[[0.45572504 0.44434114 0.44003083 0.44005485]\n",
      " [0.28876379 0.36339487 0.30239897 0.43202521]\n",
      " [0.38515878 0.39711944 0.37942261 0.40761067]\n",
      " [0.30704806 0.34898288 0.25132848 0.39775273]\n",
      " [0.46798214 0.33883471 0.27988371 0.24667553]\n",
      " [0.         0.         0.         0.        ]\n",
      " [0.27203639 0.24016632 0.23728247 0.18123544]\n",
      " [0.         0.         0.         0.        ]\n",
      " [0.44004081 0.38639157 0.43155969 0.49913891]\n",
      " [0.32832688 0.56935915 0.4864844  0.45640717]\n",
      " [0.53263322 0.3700591  0.36318903 0.3912215 ]\n",
      " [0.         0.         0.         0.        ]\n",
      " [0.         0.         0.         0.        ]\n",
      " [0.52698543 0.47975473 0.72929979 0.53423266]\n",
      " [0.71484549 0.89283362 0.73126846 0.68954888]\n",
      " [0.         0.         0.         0.        ]]\n"
     ]
    }
   ],
   "source": [
    " rewards_all_epsisodes = []\n",
    "\n",
    "# Q-learning algorithm\n",
    "for episode in range(num_episodes):\n",
    "    state = env.reset()[0] # reset the environment\n",
    "    done = False\n",
    "    reward_current_episode = 0\n",
    "    \n",
    "    for step in range(max_steps_per_episode):\n",
    "        # exploration vs exploitation\n",
    "        exploration_rate_threshold = random.uniform(0,1)\n",
    "        if exploration_rate_threshold > exploration_rate:\n",
    "            action = np.argmax(q_table[state,:]) # exploit by picking the max q-value\n",
    "        else:\n",
    "            action = env.action_space.sample() # explore by taking a random action\n",
    "        \n",
    "        new_state, reward, done, info, prob = env.step(action) # take the action and retrieve the reward\n",
    "        \n",
    "        #Update the Q-table for Q(s,a)\n",
    "        q_table[state, action] = q_table[state, action] * (1-learning_rate) + \\\n",
    "            learning_rate*(reward + discount_rate*np.max(q_table[new_state, :]))\n",
    "        # q_new(s,a) = (1-a)(q_old) + a(r_t1 + y*max(new_state, all actions)\n",
    "        state = new_state\n",
    "        reward_current_episode += reward\n",
    "        \n",
    "        if done:\n",
    "            break\n",
    "        \n",
    "    rewards_all_epsisodes.append(reward_current_episode)\n",
    "    # exploration decay\n",
    "    exploration_rate = min_exploration_rate + \\\n",
    "        (max_exploration_rate - min_exploration_rate) * np.exp(-exploration_decay_rate*episode)\n",
    "    \n",
    "# calculate and print the average reward per thousand episodes\n",
    "rewards_per_thousand_episodes = np.split(np.array(rewards_all_epsisodes), num_episodes/1000)\n",
    "count = 1000\n",
    "print(\"********Avearge reward per thousand episodes********\\n\")\n",
    "for r in rewards_per_thousand_episodes:\n",
    "    print(count, \": \", str(sum(r/1000)))\n",
    "    count += 1000\n",
    "\n",
    "# print updated Q-table\n",
    "print(q_table)"
   ]
  },
  {
   "cell_type": "code",
   "execution_count": 7,
   "id": "eebe71ad",
   "metadata": {},
   "outputs": [],
   "source": [
    "env = gym.make(\"FrozenLake-v1\", render_mode=\"human\") # create the environment"
   ]
  },
  {
   "cell_type": "code",
   "execution_count": 8,
   "id": "2116c3f9",
   "metadata": {
    "scrolled": true
   },
   "outputs": [
    {
     "name": "stdout",
     "output_type": "stream",
     "text": [
      "*****You've reached the goal my son!******\n"
     ]
    },
    {
     "ename": "KeyboardInterrupt",
     "evalue": "",
     "output_type": "error",
     "traceback": [
      "\u001b[1;31m---------------------------------------------------------------------------\u001b[0m",
      "\u001b[1;31mKeyboardInterrupt\u001b[0m                         Traceback (most recent call last)",
      "\u001b[1;32m~\\AppData\\Local\\Temp/ipykernel_16756/3026161959.py\u001b[0m in \u001b[0;36m<module>\u001b[1;34m\u001b[0m\n\u001b[0;32m     18\u001b[0m             \u001b[1;32mif\u001b[0m \u001b[0mreward\u001b[0m \u001b[1;33m==\u001b[0m \u001b[1;36m1\u001b[0m\u001b[1;33m:\u001b[0m\u001b[1;33m\u001b[0m\u001b[1;33m\u001b[0m\u001b[0m\n\u001b[0;32m     19\u001b[0m                 \u001b[0mprint\u001b[0m\u001b[1;33m(\u001b[0m\u001b[1;34m\"*****You've reached the goal my son!******\"\u001b[0m\u001b[1;33m)\u001b[0m\u001b[1;33m\u001b[0m\u001b[1;33m\u001b[0m\u001b[0m\n\u001b[1;32m---> 20\u001b[1;33m                 \u001b[0mtime\u001b[0m\u001b[1;33m.\u001b[0m\u001b[0msleep\u001b[0m\u001b[1;33m(\u001b[0m\u001b[1;36m3\u001b[0m\u001b[1;33m)\u001b[0m\u001b[1;33m\u001b[0m\u001b[1;33m\u001b[0m\u001b[0m\n\u001b[0m\u001b[0;32m     21\u001b[0m             \u001b[1;32melse\u001b[0m\u001b[1;33m:\u001b[0m\u001b[1;33m\u001b[0m\u001b[1;33m\u001b[0m\u001b[0m\n\u001b[0;32m     22\u001b[0m                 \u001b[0mprint\u001b[0m\u001b[1;33m(\u001b[0m\u001b[1;34m\"*****You've fell in the hole, I'm dissapointed...******\"\u001b[0m\u001b[1;33m)\u001b[0m\u001b[1;33m\u001b[0m\u001b[1;33m\u001b[0m\u001b[0m\n",
      "\u001b[1;31mKeyboardInterrupt\u001b[0m: "
     ]
    }
   ],
   "source": [
    "for episode in range(3):\n",
    "    state = env.reset()[0]\n",
    "    done = False\n",
    "    print(\"*****EPISODE \", episode+1, \"******\\n\\n\\n\\n\")\n",
    "    time.sleep(5)\n",
    "    \n",
    "    for step in range(max_steps_per_episode):\n",
    "        clear_output(wait=True)\n",
    "        env.render()\n",
    "        time.sleep(0.3)\n",
    "        \n",
    "        action = np.argmax(q_table[state, :])\n",
    "        new_state, reward, done, info, prob = env.step(action)\n",
    "        \n",
    "        if done:\n",
    "            clear_output(wait=True)\n",
    "            env.render()\n",
    "            if reward == 1:\n",
    "                print(\"*****You've reached the goal my son!******\")\n",
    "                time.sleep(3)\n",
    "            else:\n",
    "                print(\"*****You've fell in the hole, I'm dissapointed...******\")\n",
    "                time.sleep(3)\n",
    "            clear_output(wait=True)\n",
    "            break\n",
    "        state = new_state\n",
    "\n",
    "env.close()"
   ]
  }
 ],
 "metadata": {
  "kernelspec": {
   "display_name": "Python 3 (ipykernel)",
   "language": "python",
   "name": "python3"
  },
  "language_info": {
   "codemirror_mode": {
    "name": "ipython",
    "version": 3
   },
   "file_extension": ".py",
   "mimetype": "text/x-python",
   "name": "python",
   "nbconvert_exporter": "python",
   "pygments_lexer": "ipython3",
   "version": "3.9.7"
  }
 },
 "nbformat": 4,
 "nbformat_minor": 5
}
